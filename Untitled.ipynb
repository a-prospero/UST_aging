{
 "cells": [
  {
   "cell_type": "code",
   "execution_count": 3,
   "metadata": {},
   "outputs": [
    {
     "data": {
      "text/html": [
       "<div>\n",
       "<style scoped>\n",
       "    .dataframe tbody tr th:only-of-type {\n",
       "        vertical-align: middle;\n",
       "    }\n",
       "\n",
       "    .dataframe tbody tr th {\n",
       "        vertical-align: top;\n",
       "    }\n",
       "\n",
       "    .dataframe thead th {\n",
       "        text-align: right;\n",
       "    }\n",
       "</style>\n",
       "<table border=\"1\" class=\"dataframe\">\n",
       "  <thead>\n",
       "    <tr style=\"text-align: right;\">\n",
       "      <th></th>\n",
       "      <th>cust_id</th>\n",
       "      <th>cust_name</th>\n",
       "      <th>current</th>\n",
       "      <th>daysa</th>\n",
       "      <th>daysb</th>\n",
       "      <th>daysc</th>\n",
       "      <th>daysd</th>\n",
       "      <th>total_balance</th>\n",
       "      <th>term</th>\n",
       "    </tr>\n",
       "  </thead>\n",
       "  <tbody>\n",
       "    <tr>\n",
       "      <th>0</th>\n",
       "      <td>DUKALB99</td>\n",
       "      <td>DUKE CITY REDI MIX %%</td>\n",
       "      <td>241.31</td>\n",
       "      <td>0.00</td>\n",
       "      <td>0.0</td>\n",
       "      <td>0.0</td>\n",
       "      <td>0.00</td>\n",
       "      <td>241.31</td>\n",
       "      <td>Net 30</td>\n",
       "    </tr>\n",
       "    <tr>\n",
       "      <th>1</th>\n",
       "      <td>BTURAT99</td>\n",
       "      <td>BTU%</td>\n",
       "      <td>557.32</td>\n",
       "      <td>0.00</td>\n",
       "      <td>0.0</td>\n",
       "      <td>0.0</td>\n",
       "      <td>0.00</td>\n",
       "      <td>557.32</td>\n",
       "      <td>Net 30</td>\n",
       "    </tr>\n",
       "    <tr>\n",
       "      <th>2</th>\n",
       "      <td>ROULOV01</td>\n",
       "      <td>ROUSSELLE VAULT COMPANY</td>\n",
       "      <td>0.00</td>\n",
       "      <td>0.00</td>\n",
       "      <td>0.0</td>\n",
       "      <td>0.0</td>\n",
       "      <td>610.66</td>\n",
       "      <td>610.66</td>\n",
       "      <td>Net 30</td>\n",
       "    </tr>\n",
       "    <tr>\n",
       "      <th>3</th>\n",
       "      <td>QUIALB99</td>\n",
       "      <td>QUIKRETE%</td>\n",
       "      <td>496.31</td>\n",
       "      <td>223.83</td>\n",
       "      <td>0.0</td>\n",
       "      <td>0.0</td>\n",
       "      <td>0.00</td>\n",
       "      <td>720.14</td>\n",
       "      <td>Net 30</td>\n",
       "    </tr>\n",
       "    <tr>\n",
       "      <th>4</th>\n",
       "      <td>MORMOR99</td>\n",
       "      <td>MORIARTY CONCRETE %</td>\n",
       "      <td>805.10</td>\n",
       "      <td>0.00</td>\n",
       "      <td>0.0</td>\n",
       "      <td>0.0</td>\n",
       "      <td>0.00</td>\n",
       "      <td>805.10</td>\n",
       "      <td>Net 30</td>\n",
       "    </tr>\n",
       "  </tbody>\n",
       "</table>\n",
       "</div>"
      ],
      "text/plain": [
       "    cust_id                cust_name  current   daysa  daysb  daysc   daysd  \\\n",
       "0  DUKALB99    DUKE CITY REDI MIX %%   241.31    0.00    0.0    0.0    0.00   \n",
       "1  BTURAT99                     BTU%   557.32    0.00    0.0    0.0    0.00   \n",
       "2  ROULOV01  ROUSSELLE VAULT COMPANY     0.00    0.00    0.0    0.0  610.66   \n",
       "3  QUIALB99                QUIKRETE%   496.31  223.83    0.0    0.0    0.00   \n",
       "4  MORMOR99      MORIARTY CONCRETE %   805.10    0.00    0.0    0.0    0.00   \n",
       "\n",
       "   total_balance    term  \n",
       "0         241.31  Net 30  \n",
       "1         557.32  Net 30  \n",
       "2         610.66  Net 30  \n",
       "3         720.14  Net 30  \n",
       "4         805.10  Net 30  "
      ]
     },
     "execution_count": 3,
     "metadata": {},
     "output_type": "execute_result"
    }
   ],
   "source": [
    "# Dependencies and Setup\n",
    "import matplotlib.pyplot as plt\n",
    "import pandas as pd\n",
    "import scipy.stats as st\n",
    "\n",
    "# Study data files\n",
    "aging = \"small_aging.csv\"\n",
    "aging_df = pd.read_csv(aging)\n",
    "aging_df.head()"
   ]
  },
  {
   "cell_type": "code",
   "execution_count": 4,
   "metadata": {},
   "outputs": [
    {
     "data": {
      "image/png": "[encoded data removed]",
      "text/plain": [
       "<Figure size 432x288 with 1 Axes>"
      ]
     },
     "metadata": {
      "needs_background": "light"
     },
     "output_type": "display_data"
    }
   ],
   "source": [
    "plt.scatter(aging_df['current'], aging_df['total_balance'])\n",
    "plt.xlabel('current')\n",
    "plt.ylabel('total_balance')\n",
    "plt.show()"
   ]
  },
  {
   "cell_type": "code",
   "execution_count": null,
   "metadata": {},
   "outputs": [],
   "source": []
  }
 ],
 "metadata": {
  "kernelspec": {
   "display_name": "Python [conda env:pythondata] *",
   "language": "python",
   "name": "conda-env-pythondata-py"
  },
  "language_info": {
   "codemirror_mode": {
    "name": "ipython",
    "version": 3
   },
   "file_extension": ".py",
   "mimetype": "text/x-python",
   "name": "python",
   "nbconvert_exporter": "python",
   "pygments_lexer": "ipython3",
   "version": "3.7.1"
  }
 },
 "nbformat": 4,
 "nbformat_minor": 4
}
